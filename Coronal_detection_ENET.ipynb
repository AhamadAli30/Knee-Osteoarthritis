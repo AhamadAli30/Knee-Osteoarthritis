{
  "cells": [
    {
      "cell_type": "markdown",
      "metadata": {
        "id": "view-in-github",
        "colab_type": "text"
      },
      "source": [
        "<a href=\"https://colab.research.google.com/github/AhamadAli30/Knee-Osteoarthritis/blob/main/Coronal_detection_ENET.ipynb\" target=\"_parent\"><img src=\"https://colab.research.google.com/assets/colab-badge.svg\" alt=\"Open In Colab\"/></a>"
      ]
    },
    {
      "cell_type": "code",
      "execution_count": null,
      "metadata": {
        "colab": {
          "base_uri": "https://localhost:8080/"
        },
        "id": "UjRZAGPYujTF",
        "outputId": "f72bce1f-3e34-4615-b29e-f2c609ad0e6b"
      },
      "outputs": [
        {
          "output_type": "stream",
          "name": "stdout",
          "text": [
            "Drive already mounted at /content/drive/; to attempt to forcibly remount, call drive.mount(\"/content/drive/\", force_remount=True).\n"
          ]
        }
      ],
      "source": [
        "from google.colab import drive\n",
        "drive.mount('/content/drive/')"
      ]
    },
    {
      "cell_type": "markdown",
      "metadata": {
        "id": "qs8XbQZMuugq"
      },
      "source": [
        "Preprocessing\n"
      ]
    },
    {
      "cell_type": "code",
      "execution_count": null,
      "metadata": {
        "colab": {
          "base_uri": "https://localhost:8080/"
        },
        "id": "z3scaFQTuxDS",
        "outputId": "24c5d6e2-edcc-4a00-c0db-09717453c9e4"
      },
      "outputs": [
        {
          "output_type": "stream",
          "name": "stdout",
          "text": [
            "(258, 256, 256, 1)\n"
          ]
        }
      ],
      "source": [
        "from google.colab.patches import cv2_imshow\n",
        "import cv2\n",
        "import numpy as np\n",
        "import os\n",
        "\n",
        "# Set the path to your dataset\n",
        "dataset_path = \"/content/drive/MyDrive/coronal_mask\"\n",
        "\n",
        "# Define the image size\n",
        "IMG_HEIGHT = 256\n",
        "IMG_WIDTH = 256\n",
        "\n",
        "\"\"\"# Define the lower and upper bounds for the articular cartilage intensity\n",
        "values. These values can be adjusted based on the properties of your\n",
        "specific images. (105,500)\"\"\"\n",
        "LOWER_BOUND = 105\n",
        "UPPER_BOUND = 500\n",
        "\n",
        "# Function for preprocessing the images\n",
        "def preprocess_image(img_path):\n",
        "    img = cv2.imread(img_path, cv2.IMREAD_GRAYSCALE)\n",
        "    img = cv2.resize(img, (IMG_WIDTH, IMG_HEIGHT))\n",
        "    img = img / 255.0 # Normalize pixel values\n",
        "    img = np.uint8(img * 255) # Convert image to 8-bit unsigned integer format\n",
        "    img = np.expand_dims(img, axis=-1)\n",
        "    return img\n",
        "\n",
        "# Create a list of image paths and their corresponding labels\n",
        "image_paths = []\n",
        "labels = []\n",
        "\n",
        "for category in os.listdir(dataset_path):\n",
        "    category_path = os.path.join(dataset_path, category)\n",
        "    for image_name in os.listdir(category_path):\n",
        "        image_path = os.path.join(category_path, image_name)\n",
        "        image_paths.append(image_path)\n",
        "        labels.append(category)\n",
        "\n",
        "# Preprocess the images and store them in a list\n",
        "preprocessed_images = []\n",
        "\n",
        "for image_path in image_paths:\n",
        "    preprocessed_image = preprocess_image(image_path)\n",
        "    preprocessed_images.append(preprocessed_image)\n",
        "\n",
        "# Convert the labels to numerical values\n",
        "label_dict = {\"Mild\": 0,\"Moderate\": 1, \"Normal\": 2, \"Severe\": 3}\n",
        "numerical_labels = [label_dict[label] for label in labels]\n",
        "\n",
        "# Convert the preprocessed images and numerical labels to numpy arrays\n",
        "X = np.array(preprocessed_images)\n",
        "y = np.array(numerical_labels)\n",
        "\n",
        "\n",
        "# Create a new list to store the segmented images\n",
        "segmented_images = []\n",
        "\n",
        "# Loop through each image and perform segmentation\n",
        "for i in range(len(X)):\n",
        "    img = X[i]\n",
        "    # Apply a threshold to isolate the articular cartilage region\n",
        "    _, thresh = cv2.threshold(img, LOWER_BOUND, UPPER_BOUND, cv2.THRESH_BINARY)\n",
        "\n",
        "\n",
        "    #Apply morphological operations to remove noise and fill gaps in the articular cartilage region\n",
        "\n",
        "    kernel = np.ones((5, 5), np.uint8)\n",
        "    opening = cv2.morphologyEx(thresh, cv2.MORPH_OPEN, kernel)\n",
        "    closing = cv2.morphologyEx(opening, cv2.MORPH_CLOSE, kernel)\n",
        "\n",
        "    # Apply a mask to retain only the articular cartilage region\n",
        "    masked_img = np.zeros_like(img)\n",
        "    masked_img[closing == 255] = img[closing == 255]\n",
        "\n",
        "    # Create a binary mask\n",
        "    mask = np.zeros_like(masked_img)\n",
        "    mask[masked_img > 0] = 1\n",
        "\n",
        "    # Apply the mask to the image\n",
        "    masked_img = masked_img * mask\n",
        "\n",
        "    # Add the segmented image to the list\n",
        "    segmented_images.append(masked_img)\n",
        "\n",
        "# Convert the list of segmented images to a numpy array\n",
        "X = np.array(segmented_images)\n",
        "\n",
        "#print(labels[11])\n",
        "\n",
        "print(X.shape)"
      ]
    },
    {
      "cell_type": "markdown",
      "metadata": {
        "id": "xoHUX9Iuu0Ph"
      },
      "source": [
        "E-Net Model"
      ]
    },
    {
      "cell_type": "code",
      "execution_count": null,
      "metadata": {
        "colab": {
          "base_uri": "https://localhost:8080/"
        },
        "id": "6KXDWHnnQOxn",
        "outputId": "3bd241b6-c50e-407c-b0d0-c7f086618d5b"
      },
      "outputs": [
        {
          "output_type": "stream",
          "name": "stdout",
          "text": [
            "(180, 256, 256, 1)\n"
          ]
        }
      ],
      "source": [
        "from sklearn.model_selection import train_test_split\n",
        "import tensorflow as tf\n",
        "from tensorflow.keras.utils import to_categorical\n",
        "# Split the dataset into training, validation, and testing sets\n",
        "X_train, X_test, y_train, y_test = train_test_split(X, y, test_size=0.3, random_state=42)\n",
        "X_val, X_test, y_val, y_test = train_test_split(X_test, y_test, test_size=0.3, random_state=42)\n",
        "\n",
        "# Convert the labels to one-hot encoded vectors\n",
        "y_train = to_categorical(y_train, num_classes=4)\n",
        "y_val = to_categorical(y_val, num_classes=4)\n",
        "y_test = to_categorical(y_test, num_classes=4)\n",
        "print(X_train.shape)"
      ]
    },
    {
      "cell_type": "code",
      "execution_count": null,
      "metadata": {
        "colab": {
          "base_uri": "https://localhost:8080/"
        },
        "id": "garsVZIPP1rN",
        "outputId": "3214f11c-524e-4dec-c197-ad059b0b7f73"
      },
      "outputs": [
        {
          "output_type": "stream",
          "name": "stdout",
          "text": [
            "Model: \"ENet\"\n",
            "__________________________________________________________________________________________________\n",
            " Layer (type)                   Output Shape         Param #     Connected to                     \n",
            "==================================================================================================\n",
            " input_2 (InputLayer)           [(None, 256, 256, 1  0           []                               \n",
            "                                )]                                                                \n",
            "                                                                                                  \n",
            " conv2d_28 (Conv2D)             (None, 128, 128, 13  130         ['input_2[0][0]']                \n",
            "                                )                                                                 \n",
            "                                                                                                  \n",
            " batch_normalization_28 (BatchN  (None, 128, 128, 13  52         ['conv2d_28[0][0]']              \n",
            " ormalization)                  )                                                                 \n",
            "                                                                                                  \n",
            " p_re_lu_28 (PReLU)             (None, 128, 128, 13  212992      ['batch_normalization_28[0][0]'] \n",
            "                                )                                                                 \n",
            "                                                                                                  \n",
            " conv2d_30 (Conv2D)             (None, 128, 128, 16  1888        ['p_re_lu_28[0][0]']             \n",
            "                                )                                                                 \n",
            "                                                                                                  \n",
            " batch_normalization_30 (BatchN  (None, 128, 128, 16  64         ['conv2d_30[0][0]']              \n",
            " ormalization)                  )                                                                 \n",
            "                                                                                                  \n",
            " p_re_lu_30 (PReLU)             (None, 128, 128, 16  262144      ['batch_normalization_30[0][0]'] \n",
            "                                )                                                                 \n",
            "                                                                                                  \n",
            " conv2d_31 (Conv2D)             (None, 128, 128, 64  1088        ['p_re_lu_30[0][0]']             \n",
            "                                )                                                                 \n",
            "                                                                                                  \n",
            " conv2d_29 (Conv2D)             (None, 128, 128, 16  224         ['p_re_lu_28[0][0]']             \n",
            "                                )                                                                 \n",
            "                                                                                                  \n",
            " batch_normalization_31 (BatchN  (None, 128, 128, 64  256        ['conv2d_31[0][0]']              \n",
            " ormalization)                  )                                                                 \n",
            "                                                                                                  \n",
            " batch_normalization_29 (BatchN  (None, 128, 128, 16  64         ['conv2d_29[0][0]']              \n",
            " ormalization)                  )                                                                 \n",
            "                                                                                                  \n",
            " p_re_lu_31 (PReLU)             (None, 128, 128, 64  1048576     ['batch_normalization_31[0][0]'] \n",
            "                                )                                                                 \n",
            "                                                                                                  \n",
            " p_re_lu_29 (PReLU)             (None, 128, 128, 16  262144      ['batch_normalization_29[0][0]'] \n",
            "                                )                                                                 \n",
            "                                                                                                  \n",
            " dropout_9 (Dropout)            (None, 128, 128, 64  0           ['p_re_lu_31[0][0]']             \n",
            "                                )                                                                 \n",
            "                                                                                                  \n",
            " concatenate_9 (Concatenate)    (None, 128, 128, 80  0           ['p_re_lu_29[0][0]',             \n",
            "                                )                                 'dropout_9[0][0]']              \n",
            "                                                                                                  \n",
            " max_pooling2d_4 (MaxPooling2D)  (None, 64, 64, 80)  0           ['concatenate_9[0][0]']          \n",
            "                                                                                                  \n",
            " conv2d_33 (Conv2D)             (None, 64, 64, 32)   23072       ['max_pooling2d_4[0][0]']        \n",
            "                                                                                                  \n",
            " batch_normalization_33 (BatchN  (None, 64, 64, 32)  128         ['conv2d_33[0][0]']              \n",
            " ormalization)                                                                                    \n",
            "                                                                                                  \n",
            " p_re_lu_33 (PReLU)             (None, 64, 64, 32)   131072      ['batch_normalization_33[0][0]'] \n",
            "                                                                                                  \n",
            " conv2d_34 (Conv2D)             (None, 64, 64, 128)  4224        ['p_re_lu_33[0][0]']             \n",
            "                                                                                                  \n",
            " conv2d_32 (Conv2D)             (None, 64, 64, 32)   2592        ['max_pooling2d_4[0][0]']        \n",
            "                                                                                                  \n",
            " batch_normalization_34 (BatchN  (None, 64, 64, 128)  512        ['conv2d_34[0][0]']              \n",
            " ormalization)                                                                                    \n",
            "                                                                                                  \n",
            " batch_normalization_32 (BatchN  (None, 64, 64, 32)  128         ['conv2d_32[0][0]']              \n",
            " ormalization)                                                                                    \n",
            "                                                                                                  \n",
            " p_re_lu_34 (PReLU)             (None, 64, 64, 128)  524288      ['batch_normalization_34[0][0]'] \n",
            "                                                                                                  \n",
            " p_re_lu_32 (PReLU)             (None, 64, 64, 32)   131072      ['batch_normalization_32[0][0]'] \n",
            "                                                                                                  \n",
            " dropout_10 (Dropout)           (None, 64, 64, 128)  0           ['p_re_lu_34[0][0]']             \n",
            "                                                                                                  \n",
            " concatenate_10 (Concatenate)   (None, 64, 64, 160)  0           ['p_re_lu_32[0][0]',             \n",
            "                                                                  'dropout_10[0][0]']             \n",
            "                                                                                                  \n",
            " max_pooling2d_5 (MaxPooling2D)  (None, 32, 32, 160)  0          ['concatenate_10[0][0]']         \n",
            "                                                                                                  \n",
            " conv2d_36 (Conv2D)             (None, 32, 32, 64)   92224       ['max_pooling2d_5[0][0]']        \n",
            "                                                                                                  \n",
            " batch_normalization_36 (BatchN  (None, 32, 32, 64)  256         ['conv2d_36[0][0]']              \n",
            " ormalization)                                                                                    \n",
            "                                                                                                  \n",
            " p_re_lu_36 (PReLU)             (None, 32, 32, 64)   65536       ['batch_normalization_36[0][0]'] \n",
            "                                                                                                  \n",
            " conv2d_37 (Conv2D)             (None, 32, 32, 256)  16640       ['p_re_lu_36[0][0]']             \n",
            "                                                                                                  \n",
            " conv2d_35 (Conv2D)             (None, 32, 32, 64)   10304       ['max_pooling2d_5[0][0]']        \n",
            "                                                                                                  \n",
            " batch_normalization_37 (BatchN  (None, 32, 32, 256)  1024       ['conv2d_37[0][0]']              \n",
            " ormalization)                                                                                    \n",
            "                                                                                                  \n",
            " batch_normalization_35 (BatchN  (None, 32, 32, 64)  256         ['conv2d_35[0][0]']              \n",
            " ormalization)                                                                                    \n",
            "                                                                                                  \n",
            " p_re_lu_37 (PReLU)             (None, 32, 32, 256)  262144      ['batch_normalization_37[0][0]'] \n",
            "                                                                                                  \n",
            " p_re_lu_35 (PReLU)             (None, 32, 32, 64)   65536       ['batch_normalization_35[0][0]'] \n",
            "                                                                                                  \n",
            " dropout_11 (Dropout)           (None, 32, 32, 256)  0           ['p_re_lu_37[0][0]']             \n",
            "                                                                                                  \n",
            " concatenate_11 (Concatenate)   (None, 32, 32, 320)  0           ['p_re_lu_35[0][0]',             \n",
            "                                                                  'dropout_11[0][0]']             \n",
            "                                                                                                  \n",
            " max_pooling2d_6 (MaxPooling2D)  (None, 16, 16, 320)  0          ['concatenate_11[0][0]']         \n",
            "                                                                                                  \n",
            " conv2d_39 (Conv2D)             (None, 16, 16, 128)  368768      ['max_pooling2d_6[0][0]']        \n",
            "                                                                                                  \n",
            " batch_normalization_39 (BatchN  (None, 16, 16, 128)  512        ['conv2d_39[0][0]']              \n",
            " ormalization)                                                                                    \n",
            "                                                                                                  \n",
            " p_re_lu_39 (PReLU)             (None, 16, 16, 128)  32768       ['batch_normalization_39[0][0]'] \n",
            "                                                                                                  \n",
            " conv2d_40 (Conv2D)             (None, 16, 16, 512)  66048       ['p_re_lu_39[0][0]']             \n",
            "                                                                                                  \n",
            " conv2d_38 (Conv2D)             (None, 16, 16, 128)  41088       ['max_pooling2d_6[0][0]']        \n",
            "                                                                                                  \n",
            " batch_normalization_40 (BatchN  (None, 16, 16, 512)  2048       ['conv2d_40[0][0]']              \n",
            " ormalization)                                                                                    \n",
            "                                                                                                  \n",
            " batch_normalization_38 (BatchN  (None, 16, 16, 128)  512        ['conv2d_38[0][0]']              \n",
            " ormalization)                                                                                    \n",
            "                                                                                                  \n",
            " p_re_lu_40 (PReLU)             (None, 16, 16, 512)  131072      ['batch_normalization_40[0][0]'] \n",
            "                                                                                                  \n",
            " p_re_lu_38 (PReLU)             (None, 16, 16, 128)  32768       ['batch_normalization_38[0][0]'] \n",
            "                                                                                                  \n",
            " dropout_12 (Dropout)           (None, 16, 16, 512)  0           ['p_re_lu_40[0][0]']             \n",
            "                                                                                                  \n",
            " concatenate_12 (Concatenate)   (None, 16, 16, 640)  0           ['p_re_lu_38[0][0]',             \n",
            "                                                                  'dropout_12[0][0]']             \n",
            "                                                                                                  \n",
            " max_pooling2d_7 (MaxPooling2D)  (None, 8, 8, 640)   0           ['concatenate_12[0][0]']         \n",
            "                                                                                                  \n",
            " conv2d_42 (Conv2D)             (None, 8, 8, 256)    1474816     ['max_pooling2d_7[0][0]']        \n",
            "                                                                                                  \n",
            " batch_normalization_42 (BatchN  (None, 8, 8, 256)   1024        ['conv2d_42[0][0]']              \n",
            " ormalization)                                                                                    \n",
            "                                                                                                  \n",
            " p_re_lu_42 (PReLU)             (None, 8, 8, 256)    16384       ['batch_normalization_42[0][0]'] \n",
            "                                                                                                  \n",
            " conv2d_43 (Conv2D)             (None, 8, 8, 1024)   263168      ['p_re_lu_42[0][0]']             \n",
            "                                                                                                  \n",
            " conv2d_41 (Conv2D)             (None, 8, 8, 256)    164096      ['max_pooling2d_7[0][0]']        \n",
            "                                                                                                  \n",
            " batch_normalization_43 (BatchN  (None, 8, 8, 1024)  4096        ['conv2d_43[0][0]']              \n",
            " ormalization)                                                                                    \n",
            "                                                                                                  \n",
            " batch_normalization_41 (BatchN  (None, 8, 8, 256)   1024        ['conv2d_41[0][0]']              \n",
            " ormalization)                                                                                    \n",
            "                                                                                                  \n",
            " p_re_lu_43 (PReLU)             (None, 8, 8, 1024)   65536       ['batch_normalization_43[0][0]'] \n",
            "                                                                                                  \n",
            " p_re_lu_41 (PReLU)             (None, 8, 8, 256)    16384       ['batch_normalization_41[0][0]'] \n",
            "                                                                                                  \n",
            " dropout_13 (Dropout)           (None, 8, 8, 1024)   0           ['p_re_lu_43[0][0]']             \n",
            "                                                                                                  \n",
            " concatenate_13 (Concatenate)   (None, 8, 8, 1280)   0           ['p_re_lu_41[0][0]',             \n",
            "                                                                  'dropout_13[0][0]']             \n",
            "                                                                                                  \n",
            " up_sampling2d_4 (UpSampling2D)  (None, 16, 16, 1280  0          ['concatenate_13[0][0]']         \n",
            "                                )                                                                 \n",
            "                                                                                                  \n",
            " conv2d_45 (Conv2D)             (None, 16, 16, 128)  1474688     ['up_sampling2d_4[0][0]']        \n",
            "                                                                                                  \n",
            " batch_normalization_45 (BatchN  (None, 16, 16, 128)  512        ['conv2d_45[0][0]']              \n",
            " ormalization)                                                                                    \n",
            "                                                                                                  \n",
            " p_re_lu_45 (PReLU)             (None, 16, 16, 128)  32768       ['batch_normalization_45[0][0]'] \n",
            "                                                                                                  \n",
            " conv2d_46 (Conv2D)             (None, 16, 16, 512)  66048       ['p_re_lu_45[0][0]']             \n",
            "                                                                                                  \n",
            " conv2d_44 (Conv2D)             (None, 16, 16, 128)  163968      ['up_sampling2d_4[0][0]']        \n",
            "                                                                                                  \n",
            " batch_normalization_46 (BatchN  (None, 16, 16, 512)  2048       ['conv2d_46[0][0]']              \n",
            " ormalization)                                                                                    \n",
            "                                                                                                  \n",
            " batch_normalization_44 (BatchN  (None, 16, 16, 128)  512        ['conv2d_44[0][0]']              \n",
            " ormalization)                                                                                    \n",
            "                                                                                                  \n",
            " p_re_lu_46 (PReLU)             (None, 16, 16, 512)  131072      ['batch_normalization_46[0][0]'] \n",
            "                                                                                                  \n",
            " p_re_lu_44 (PReLU)             (None, 16, 16, 128)  32768       ['batch_normalization_44[0][0]'] \n",
            "                                                                                                  \n",
            " dropout_14 (Dropout)           (None, 16, 16, 512)  0           ['p_re_lu_46[0][0]']             \n",
            "                                                                                                  \n",
            " concatenate_14 (Concatenate)   (None, 16, 16, 640)  0           ['p_re_lu_44[0][0]',             \n",
            "                                                                  'dropout_14[0][0]']             \n",
            "                                                                                                  \n",
            " up_sampling2d_5 (UpSampling2D)  (None, 32, 32, 640)  0          ['concatenate_14[0][0]']         \n",
            "                                                                                                  \n",
            " conv2d_48 (Conv2D)             (None, 32, 32, 64)   368704      ['up_sampling2d_5[0][0]']        \n",
            "                                                                                                  \n",
            " batch_normalization_48 (BatchN  (None, 32, 32, 64)  256         ['conv2d_48[0][0]']              \n",
            " ormalization)                                                                                    \n",
            "                                                                                                  \n",
            " p_re_lu_48 (PReLU)             (None, 32, 32, 64)   65536       ['batch_normalization_48[0][0]'] \n",
            "                                                                                                  \n",
            " conv2d_49 (Conv2D)             (None, 32, 32, 256)  16640       ['p_re_lu_48[0][0]']             \n",
            "                                                                                                  \n",
            " conv2d_47 (Conv2D)             (None, 32, 32, 64)   41024       ['up_sampling2d_5[0][0]']        \n",
            "                                                                                                  \n",
            " batch_normalization_49 (BatchN  (None, 32, 32, 256)  1024       ['conv2d_49[0][0]']              \n",
            " ormalization)                                                                                    \n",
            "                                                                                                  \n",
            " batch_normalization_47 (BatchN  (None, 32, 32, 64)  256         ['conv2d_47[0][0]']              \n",
            " ormalization)                                                                                    \n",
            "                                                                                                  \n",
            " p_re_lu_49 (PReLU)             (None, 32, 32, 256)  262144      ['batch_normalization_49[0][0]'] \n",
            "                                                                                                  \n",
            " p_re_lu_47 (PReLU)             (None, 32, 32, 64)   65536       ['batch_normalization_47[0][0]'] \n",
            "                                                                                                  \n",
            " dropout_15 (Dropout)           (None, 32, 32, 256)  0           ['p_re_lu_49[0][0]']             \n",
            "                                                                                                  \n",
            " concatenate_15 (Concatenate)   (None, 32, 32, 320)  0           ['p_re_lu_47[0][0]',             \n",
            "                                                                  'dropout_15[0][0]']             \n",
            "                                                                                                  \n",
            " up_sampling2d_6 (UpSampling2D)  (None, 64, 64, 320)  0          ['concatenate_15[0][0]']         \n",
            "                                                                                                  \n",
            " conv2d_51 (Conv2D)             (None, 64, 64, 32)   92192       ['up_sampling2d_6[0][0]']        \n",
            "                                                                                                  \n",
            " batch_normalization_51 (BatchN  (None, 64, 64, 32)  128         ['conv2d_51[0][0]']              \n",
            " ormalization)                                                                                    \n",
            "                                                                                                  \n",
            " p_re_lu_51 (PReLU)             (None, 64, 64, 32)   131072      ['batch_normalization_51[0][0]'] \n",
            "                                                                                                  \n",
            " conv2d_52 (Conv2D)             (None, 64, 64, 128)  4224        ['p_re_lu_51[0][0]']             \n",
            "                                                                                                  \n",
            " conv2d_50 (Conv2D)             (None, 64, 64, 32)   10272       ['up_sampling2d_6[0][0]']        \n",
            "                                                                                                  \n",
            " batch_normalization_52 (BatchN  (None, 64, 64, 128)  512        ['conv2d_52[0][0]']              \n",
            " ormalization)                                                                                    \n",
            "                                                                                                  \n",
            " batch_normalization_50 (BatchN  (None, 64, 64, 32)  128         ['conv2d_50[0][0]']              \n",
            " ormalization)                                                                                    \n",
            "                                                                                                  \n",
            " p_re_lu_52 (PReLU)             (None, 64, 64, 128)  524288      ['batch_normalization_52[0][0]'] \n",
            "                                                                                                  \n",
            " p_re_lu_50 (PReLU)             (None, 64, 64, 32)   131072      ['batch_normalization_50[0][0]'] \n",
            "                                                                                                  \n",
            " dropout_16 (Dropout)           (None, 64, 64, 128)  0           ['p_re_lu_52[0][0]']             \n",
            "                                                                                                  \n",
            " concatenate_16 (Concatenate)   (None, 64, 64, 160)  0           ['p_re_lu_50[0][0]',             \n",
            "                                                                  'dropout_16[0][0]']             \n",
            "                                                                                                  \n",
            " up_sampling2d_7 (UpSampling2D)  (None, 128, 128, 16  0          ['concatenate_16[0][0]']         \n",
            "                                0)                                                                \n",
            "                                                                                                  \n",
            " conv2d_54 (Conv2D)             (None, 128, 128, 16  23056       ['up_sampling2d_7[0][0]']        \n",
            "                                )                                                                 \n",
            "                                                                                                  \n",
            " batch_normalization_54 (BatchN  (None, 128, 128, 16  64         ['conv2d_54[0][0]']              \n",
            " ormalization)                  )                                                                 \n",
            "                                                                                                  \n",
            " p_re_lu_54 (PReLU)             (None, 128, 128, 16  262144      ['batch_normalization_54[0][0]'] \n",
            "                                )                                                                 \n",
            "                                                                                                  \n",
            " conv2d_55 (Conv2D)             (None, 128, 128, 64  1088        ['p_re_lu_54[0][0]']             \n",
            "                                )                                                                 \n",
            "                                                                                                  \n",
            " conv2d_53 (Conv2D)             (None, 128, 128, 16  2576        ['up_sampling2d_7[0][0]']        \n",
            "                                )                                                                 \n",
            "                                                                                                  \n",
            " batch_normalization_55 (BatchN  (None, 128, 128, 64  256        ['conv2d_55[0][0]']              \n",
            " ormalization)                  )                                                                 \n",
            "                                                                                                  \n",
            " batch_normalization_53 (BatchN  (None, 128, 128, 16  64         ['conv2d_53[0][0]']              \n",
            " ormalization)                  )                                                                 \n",
            "                                                                                                  \n",
            " p_re_lu_55 (PReLU)             (None, 128, 128, 64  1048576     ['batch_normalization_55[0][0]'] \n",
            "                                )                                                                 \n",
            "                                                                                                  \n",
            " p_re_lu_53 (PReLU)             (None, 128, 128, 16  262144      ['batch_normalization_53[0][0]'] \n",
            "                                )                                                                 \n",
            "                                                                                                  \n",
            " dropout_17 (Dropout)           (None, 128, 128, 64  0           ['p_re_lu_55[0][0]']             \n",
            "                                )                                                                 \n",
            "                                                                                                  \n",
            " concatenate_17 (Concatenate)   (None, 128, 128, 80  0           ['p_re_lu_53[0][0]',             \n",
            "                                )                                 'dropout_17[0][0]']             \n",
            "                                                                                                  \n",
            " flatten_1 (Flatten)            (None, 1310720)      0           ['concatenate_17[0][0]']         \n",
            "                                                                                                  \n",
            " dense_1 (Dense)                (None, 4)            5242884     ['flatten_1[0][0]']              \n",
            "                                                                                                  \n",
            "==================================================================================================\n",
            "Total params: 16,264,986\n",
            "Trainable params: 16,256,128\n",
            "Non-trainable params: 8,858\n",
            "__________________________________________________________________________________________________\n",
            "(180, 256, 256, 1)\n"
          ]
        }
      ],
      "source": [
        "import tensorflow as tf\n",
        "from tensorflow.keras.layers import Input, Conv2D, MaxPooling2D, UpSampling2D, BatchNormalization, Dropout, concatenate\n",
        "from tensorflow.keras.models import Model\n",
        "\n",
        "def initial_block(inputs):\n",
        "    conv = Conv2D(13, (3, 3), strides=(2, 2), padding='same')(inputs)\n",
        "    conv = BatchNormalization()(conv)\n",
        "    conv = tf.keras.layers.PReLU()(conv)\n",
        "    return conv\n",
        "\n",
        "def bottleneck(inputs, output_size, internal_scale=4, dropout_prob=0.1):\n",
        "    reduced = Conv2D(output_size // internal_scale, (1, 1))(inputs)\n",
        "    reduced = BatchNormalization()(reduced)\n",
        "    reduced = tf.keras.layers.PReLU()(reduced)\n",
        "\n",
        "    conv = Conv2D(output_size // internal_scale, (3, 3), padding='same')(inputs)\n",
        "    conv = BatchNormalization()(conv)\n",
        "    conv = tf.keras.layers.PReLU()(conv)\n",
        "\n",
        "    conv = Conv2D(output_size, (1, 1))(conv)\n",
        "    conv = BatchNormalization()(conv)\n",
        "    conv = tf.keras.layers.PReLU()(conv)\n",
        "\n",
        "    if dropout_prob > 0:\n",
        "        conv = Dropout(dropout_prob)(conv)\n",
        "\n",
        "    return concatenate([reduced, conv], axis=-1)\n",
        "\n",
        "def build_enet(input_shape, num_classes):\n",
        "    inputs = Input(shape=input_shape)\n",
        "\n",
        "    initial = initial_block(inputs)\n",
        "\n",
        "    down1 = bottleneck(initial, 64)\n",
        "    down1_pool = MaxPooling2D((2, 2), strides=(2, 2))(down1)\n",
        "\n",
        "    down2 = bottleneck(down1_pool, 128)\n",
        "    down2_pool = MaxPooling2D((2, 2), strides=(2, 2))(down2)\n",
        "\n",
        "    down3 = bottleneck(down2_pool, 256)\n",
        "    down3_pool = MaxPooling2D((2, 2), strides=(2, 2))(down3)\n",
        "\n",
        "    down4 = bottleneck(down3_pool, 512)\n",
        "    down4_pool = MaxPooling2D((2, 2), strides=(2, 2))(down4)\n",
        "\n",
        "    bottleneck_center = bottleneck(down4_pool, 1024)\n",
        "\n",
        "    up4 = UpSampling2D((2, 2))(bottleneck_center)\n",
        "    up4 = bottleneck(up4, 512)\n",
        "\n",
        "    up3 = UpSampling2D((2, 2))(up4)\n",
        "    up3 = bottleneck(up3, 256)\n",
        "\n",
        "    up2 = UpSampling2D((2, 2))(up3)\n",
        "    up2 = bottleneck(up2, 128)\n",
        "\n",
        "    up1 = UpSampling2D((2, 2))(up2)\n",
        "    up1 = bottleneck(up1, 64)\n",
        "\n",
        "    flat=tf.keras.layers.Flatten()(up1)\n",
        "    #outputs = Conv2D(num_classes, (1, 1), activation='softmax')(up1)\n",
        "\n",
        "    outputs = tf.keras.layers.Dense(4, activation='sigmoid')(flat)\n",
        "\n",
        "    model = Model(inputs, outputs, name='ENet')\n",
        "    return model\n",
        "\n",
        "# Instantiate the ENet model\n",
        "input_shape = (256, 256, 1)  # Adjust to your input shape\n",
        "num_classes = 4  # Number of segmentation classes\n",
        "model = build_enet(input_shape, num_classes)\n",
        "\n",
        "# Print the model summary\n",
        "model.summary()\n",
        "print(X_train.shape)"
      ]
    },
    {
      "cell_type": "code",
      "execution_count": null,
      "metadata": {
        "id": "yxs6HCrOQtDs"
      },
      "outputs": [],
      "source": [
        "from keras.optimizers import SGD\n",
        "#from tensorflow.keras.optimizers import Adam\n",
        "custom_optimizer = SGD(learning_rate=0.01, momentum=0.9)\n",
        "model.compile(optimizer=custom_optimizer, loss=\"mean_squared_error\", metrics=[\"accuracy\"])"
      ]
    },
    {
      "cell_type": "code",
      "execution_count": null,
      "metadata": {
        "colab": {
          "base_uri": "https://localhost:8080/"
        },
        "id": "pz8Z2egbOBAF",
        "outputId": "da691108-2ba4-4eb9-99b8-f8804021a3a9"
      },
      "outputs": [
        {
          "output_type": "stream",
          "name": "stdout",
          "text": [
            "Epoch 1/25\n",
            "23/23 [==============================] - 8s 158ms/step - loss: 0.1000 - accuracy: 0.7222 - val_loss: 0.2227 - val_accuracy: 0.3148\n",
            "Epoch 2/25\n",
            "23/23 [==============================] - 3s 126ms/step - loss: 0.1502 - accuracy: 0.6389 - val_loss: 0.2258 - val_accuracy: 0.2407\n",
            "Epoch 3/25\n",
            "23/23 [==============================] - 3s 124ms/step - loss: 0.1622 - accuracy: 0.6000 - val_loss: 0.2038 - val_accuracy: 0.4630\n",
            "Epoch 4/25\n",
            "23/23 [==============================] - 3s 120ms/step - loss: 0.1505 - accuracy: 0.5778 - val_loss: 0.2077 - val_accuracy: 0.4444\n",
            "Epoch 5/25\n",
            "23/23 [==============================] - 3s 120ms/step - loss: 0.1446 - accuracy: 0.5889 - val_loss: 0.2231 - val_accuracy: 0.3519\n",
            "Epoch 6/25\n",
            "23/23 [==============================] - 3s 125ms/step - loss: 0.1324 - accuracy: 0.6167 - val_loss: 0.2112 - val_accuracy: 0.2037\n",
            "Epoch 7/25\n",
            "23/23 [==============================] - 3s 123ms/step - loss: 0.1300 - accuracy: 0.6611 - val_loss: 0.2150 - val_accuracy: 0.3704\n",
            "Epoch 8/25\n",
            "23/23 [==============================] - 3s 121ms/step - loss: 0.1287 - accuracy: 0.7056 - val_loss: 0.2262 - val_accuracy: 0.2407\n",
            "Epoch 9/25\n",
            "23/23 [==============================] - 3s 122ms/step - loss: 0.1027 - accuracy: 0.7056 - val_loss: 0.2225 - val_accuracy: 0.2963\n",
            "Epoch 10/25\n",
            "23/23 [==============================] - 3s 122ms/step - loss: 0.0840 - accuracy: 0.7556 - val_loss: 0.2484 - val_accuracy: 0.2593\n",
            "Epoch 11/25\n",
            "23/23 [==============================] - 3s 124ms/step - loss: 0.1027 - accuracy: 0.7278 - val_loss: 0.2311 - val_accuracy: 0.2222\n",
            "Epoch 12/25\n",
            "23/23 [==============================] - 3s 124ms/step - loss: 0.1215 - accuracy: 0.6611 - val_loss: 0.2313 - val_accuracy: 0.3148\n",
            "Epoch 13/25\n",
            "23/23 [==============================] - 3s 122ms/step - loss: 0.0895 - accuracy: 0.7444 - val_loss: 0.2269 - val_accuracy: 0.3333\n",
            "Epoch 14/25\n",
            "23/23 [==============================] - 3s 124ms/step - loss: 0.0842 - accuracy: 0.7556 - val_loss: 0.2256 - val_accuracy: 0.3333\n",
            "Epoch 15/25\n",
            "23/23 [==============================] - 3s 124ms/step - loss: 0.0857 - accuracy: 0.7389 - val_loss: 0.2320 - val_accuracy: 0.2963\n",
            "Epoch 16/25\n",
            "23/23 [==============================] - 3s 126ms/step - loss: 0.0777 - accuracy: 0.7667 - val_loss: 0.2319 - val_accuracy: 0.3333\n",
            "Epoch 17/25\n",
            "23/23 [==============================] - 3s 122ms/step - loss: 0.0752 - accuracy: 0.7833 - val_loss: 0.2270 - val_accuracy: 0.3333\n",
            "Epoch 18/25\n",
            "23/23 [==============================] - 3s 121ms/step - loss: 0.0678 - accuracy: 0.7778 - val_loss: 0.2212 - val_accuracy: 0.4074\n",
            "Epoch 19/25\n",
            "23/23 [==============================] - 3s 123ms/step - loss: 0.0903 - accuracy: 0.7611 - val_loss: 0.2534 - val_accuracy: 0.2963\n",
            "Epoch 20/25\n",
            "23/23 [==============================] - 3s 123ms/step - loss: 0.0867 - accuracy: 0.7722 - val_loss: 0.2457 - val_accuracy: 0.2778\n",
            "Epoch 21/25\n",
            "23/23 [==============================] - 3s 126ms/step - loss: 0.0681 - accuracy: 0.8000 - val_loss: 0.2278 - val_accuracy: 0.3704\n",
            "Epoch 22/25\n",
            "23/23 [==============================] - 3s 124ms/step - loss: 0.0629 - accuracy: 0.8111 - val_loss: 0.2286 - val_accuracy: 0.4074\n",
            "Epoch 23/25\n",
            "23/23 [==============================] - 3s 120ms/step - loss: 0.0717 - accuracy: 0.8056 - val_loss: 0.2480 - val_accuracy: 0.3333\n",
            "Epoch 24/25\n",
            "23/23 [==============================] - 3s 123ms/step - loss: 0.0757 - accuracy: 0.7722 - val_loss: 0.2309 - val_accuracy: 0.4074\n",
            "Epoch 25/25\n",
            "23/23 [==============================] - 3s 123ms/step - loss: 0.0693 - accuracy: 0.7944 - val_loss: 0.2233 - val_accuracy: 0.3889\n"
          ]
        }
      ],
      "source": [
        "# Fit the model to the training data\n",
        "history = model.fit(X_train, y_train, epochs=25, batch_size=8, validation_data=(X_val, y_val))"
      ]
    },
    {
      "cell_type": "code",
      "source": [
        "loss1 = model.evaluate(X_train, y_train)\n",
        "print('Test Loss:', loss1)"
      ],
      "metadata": {
        "colab": {
          "base_uri": "https://localhost:8080/"
        },
        "id": "roKMstTv8ION",
        "outputId": "a653c8da-3ab4-4061-aed8-ed0df5922530"
      },
      "execution_count": null,
      "outputs": [
        {
          "output_type": "stream",
          "name": "stdout",
          "text": [
            "6/6 [==============================] - 1s 120ms/step - loss: 0.0732 - accuracy: 0.7778\n",
            "Test Loss: [0.07318458706140518, 0.7777777910232544]\n"
          ]
        }
      ]
    },
    {
      "cell_type": "code",
      "source": [
        "loss2 = model.evaluate(X_test, y_test)\n",
        "print('Test Loss:', loss2)"
      ],
      "metadata": {
        "colab": {
          "base_uri": "https://localhost:8080/"
        },
        "id": "ROXTcBq08w-q",
        "outputId": "ab989004-144f-44a0-8e3d-538e2e8ecd6b"
      },
      "execution_count": null,
      "outputs": [
        {
          "output_type": "stream",
          "name": "stdout",
          "text": [
            "1/1 [==============================] - 0s 115ms/step - loss: 0.1883 - accuracy: 0.3750\n",
            "Test Loss: [0.1882970780134201, 0.375]\n"
          ]
        }
      ]
    },
    {
      "cell_type": "code",
      "source": [
        "from keras.mixed_precision.loss_scale_optimizer import LossScaleOptimizerV3\n",
        "LossScaleOptimizerV3 = model.evaluate(X_val, y_val)\n",
        "print('Test Loss:', LossScaleOptimizerV3)"
      ],
      "metadata": {
        "colab": {
          "base_uri": "https://localhost:8080/"
        },
        "id": "LKajHGAJ8nZT",
        "outputId": "9f1c4ba1-f152-4f07-ef68-4fb29b3c9800"
      },
      "execution_count": null,
      "outputs": [
        {
          "output_type": "stream",
          "name": "stdout",
          "text": [
            "2/2 [==============================] - 0s 97ms/step - loss: 0.2233 - accuracy: 0.3889\n",
            "Test Loss: [0.22330361604690552, 0.3888888955116272]\n"
          ]
        }
      ]
    },
    {
      "cell_type": "code",
      "execution_count": null,
      "metadata": {
        "colab": {
          "base_uri": "https://localhost:8080/",
          "height": 430
        },
        "id": "K24bAQfuOI3k",
        "outputId": "c9646e86-72fc-4d22-c02d-d64e2ee975b6"
      },
      "outputs": [
        {
          "output_type": "display_data",
          "data": {
            "text/plain": [
              "<Figure size 640x480 with 1 Axes>"
            ],
            "image/png": "[encoded data removed]"
          },
          "metadata": {}
        }
      ],
      "source": [
        "import matplotlib.pyplot as plt\n",
        "\n",
        "plt.plot(history.history['loss'], label='Training loss')\n",
        "plt.plot(history.history['val_loss'], label='Validation loss')\n",
        "\n",
        "plt.legend()\n",
        "plt.show()"
      ]
    },
    {
      "cell_type": "code",
      "execution_count": null,
      "metadata": {
        "colab": {
          "base_uri": "https://localhost:8080/",
          "height": 430
        },
        "id": "dvI8r1uqOJsc",
        "outputId": "fc182771-194f-41eb-f7ae-55dc7e4438b9"
      },
      "outputs": [
        {
          "output_type": "display_data",
          "data": {
            "text/plain": [
              "<Figure size 640x480 with 1 Axes>"
            ],
            "image/png": "[encoded data removed]"
          },
          "metadata": {}
        }
      ],
      "source": [
        "plt.plot(history.history['accuracy'], label='training accuracy')\n",
        "\n",
        "plt.plot(history.history['val_accuracy'], label='Validation accuracy')\n",
        "plt.legend()\n",
        "plt.show()"
      ]
    },
    {
      "cell_type": "code",
      "execution_count": null,
      "metadata": {
        "id": "4RCcneJ0OL5e",
        "colab": {
          "base_uri": "https://localhost:8080/"
        },
        "outputId": "76a1d730-0a79-4c33-9bbc-d14f26156a0c"
      },
      "outputs": [
        {
          "output_type": "stream",
          "name": "stdout",
          "text": [
            "9/9 [==============================] - 2s 124ms/step\n",
            "Accuracy: 65.89%\n",
            "Precision: 76.86%\n",
            "Recall: 65.89%\n",
            "F1 score: 64.75%\n"
          ]
        }
      ],
      "source": [
        "#sets to 1 for the labels wihich are not predicted\n",
        "from sklearn.metrics import accuracy_score, precision_score, recall_score, f1_score\n",
        "\n",
        "# Calculate evaluation metrics\n",
        "y_true = [label_dict[label] for label in labels]\n",
        "y_pred = np.argmax(model.predict(X), axis=-1)\n",
        "accuracy = accuracy_score(y_pred, y_true)\n",
        "precision = precision_score(y_true, y_pred, average='weighted', zero_division=1)\n",
        "recall = recall_score(y_true, y_pred, average='weighted')\n",
        "f1 = f1_score(y_true, y_pred, average='weighted')\n",
        "\n",
        "# Print evaluation metrics\n",
        "print(f\"Accuracy: {accuracy:.2%}\")\n",
        "print(f\"Precision: {precision:.2%}\")\n",
        "print(f\"Recall: {recall:.2%}\")\n",
        "print(f\"F1 score: {f1:.2%}\")\n"
      ]
    },
    {
      "cell_type": "code",
      "execution_count": null,
      "metadata": {
        "colab": {
          "base_uri": "https://localhost:8080/",
          "height": 430
        },
        "id": "XtbxaWtBOOLJ",
        "outputId": "0d8dcd33-5b1d-4bf3-f619-2c94cee90b02"
      },
      "outputs": [
        {
          "output_type": "display_data",
          "data": {
            "text/plain": [
              "<Figure size 640x480 with 1 Axes>"
            ],
            "image/png": "[encoded data removed]"
          },
          "metadata": {}
        }
      ],
      "source": [
        "import matplotlib.pyplot as plt\n",
        "\n",
        "plt.plot([1, 2, 3, 4], [accuracy, precision, recall, f1], label='Evaluation metrics')\n",
        "plt.legend()\n",
        "plt.show()\n"
      ]
    },
    {
      "cell_type": "code",
      "execution_count": null,
      "metadata": {
        "id": "-DRvIpLgOQaA",
        "colab": {
          "base_uri": "https://localhost:8080/"
        },
        "outputId": "2d00ab60-5540-4f51-e353-756364683e5f"
      },
      "outputs": [
        {
          "output_type": "stream",
          "name": "stdout",
          "text": [
            "1/1 [==============================] - 2s 2s/step\n",
            "Accuracy: 20.83%\n",
            "Precision: 50.79%\n",
            "Recall: 20.83%\n",
            "F1 score: 21.45%\n"
          ]
        },
        {
          "output_type": "stream",
          "name": "stderr",
          "text": [
            "/usr/local/lib/python3.10/dist-packages/sklearn/metrics/_classification.py:1344: UndefinedMetricWarning: Precision is ill-defined and being set to 0.0 in labels with no predicted samples. Use `zero_division` parameter to control this behavior.\n",
            "  _warn_prf(average, modifier, msg_start, len(result))\n"
          ]
        }
      ],
      "source": [
        "\n",
        "from sklearn.metrics import accuracy_score, precision_score, recall_score, f1_score\n",
        "\n",
        "# Evaluate the model on the test set\n",
        "y_pred = model.predict(X_test)\n",
        "\n",
        "# Convert the predicted labels from one-hot encoded vectors to class labels\n",
        "y_pred_labels = np.argmax(y_pred, axis=1)\n",
        "\n",
        "# Convert the true labels from one-hot encoded vectors to class labels\n",
        "y_true_labels = np.argmax(y_test, axis=1)\n",
        "\n",
        "# Compute evaluation metrics\n",
        "accuracy = accuracy_score(y_true_labels, y_pred_labels)\n",
        "precision = precision_score(y_true_labels, y_pred_labels, average=\"weighted\")\n",
        "recall = recall_score(y_true_labels, y_pred_labels, average=\"weighted\")\n",
        "f1 = f1_score(y_true_labels, y_pred_labels, average=\"weighted\")\n",
        "\n",
        "print(\"Accuracy: {:.2f}%\".format(accuracy * 100))\n",
        "print(\"Precision: {:.2f}%\".format(precision * 100))\n",
        "print(\"Recall: {:.2f}%\".format(recall * 100))\n",
        "print(\"F1 score: {:.2f}%\".format(f1 * 100))"
      ]
    }
  ],
  "metadata": {
    "colab": {
      "provenance": [],
      "gpuType": "T4",
      "include_colab_link": true
    },
    "kernelspec": {
      "display_name": "Python 3",
      "name": "python3"
    },
    "language_info": {
      "name": "python"
    },
    "accelerator": "GPU"
  },
  "nbformat": 4,
  "nbformat_minor": 0
}