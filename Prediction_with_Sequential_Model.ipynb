{
  "nbformat": 4,
  "nbformat_minor": 0,
  "metadata": {
    "colab": {
      "provenance": [],
      "mount_file_id": "1MAtZc5M8iEl8CJ2bWy_W4Ht2hybPGW1U",
      "authorship_tag": "ABX9TyOpJ7InYR6HkeAgDyVZY5kg",
      "include_colab_link": true
    },
    "kernelspec": {
      "name": "python3",
      "display_name": "Python 3"
    },
    "language_info": {
      "name": "python"
    }
  },
  "cells": [
    {
      "cell_type": "markdown",
      "metadata": {
        "id": "view-in-github",
        "colab_type": "text"
      },
      "source": [
        "<a href=\"https://colab.research.google.com/github/AhamadAli30/Knee-Osteoarthritis/blob/main/Prediction_with_Sequential_Model.ipynb\" target=\"_parent\"><img src=\"https://colab.research.google.com/assets/colab-badge.svg\" alt=\"Open In Colab\"/></a>"
      ]
    },
    {
      "cell_type": "code",
      "execution_count": null,
      "metadata": {
        "id": "FulmwRfb98eu",
        "colab": {
          "base_uri": "https://localhost:8080/"
        },
        "outputId": "c59c4da5-a87b-476a-c65d-b69d4cef51c2"
      },
      "outputs": [
        {
          "output_type": "stream",
          "name": "stdout",
          "text": [
            "Drive already mounted at /content/drive/; to attempt to forcibly remount, call drive.mount(\"/content/drive/\", force_remount=True).\n"
          ]
        }
      ],
      "source": [
        "from google.colab import drive\n",
        "drive.mount ( '/content/drive/' )"
      ]
    },
    {
      "cell_type": "code",
      "source": [
        "#!unzip -uq  \"/content/drive/MyDrive/OA MEDICAL ANALYSIS/Knee OA Dataset-20221224T072217Z-001.zip\" -d \"/content/drive/MyDrive/OA MEDICAL ANALYSIS/Knee OA Dataset\""
      ],
      "metadata": {
        "id": "hKasQJ0tIzTf"
      },
      "execution_count": null,
      "outputs": []
    },
    {
      "cell_type": "code",
      "source": [
        "from tensorflow.keras.models import Sequential\n",
        "from tensorflow.keras.layers import Conv2D , MaxPooling2D , Dropout , Flatten , Dense\n",
        "from tensorflow.keras.optimizers import Adam\n",
        "import tensorflow.keras.losses\n",
        "from tensorflow.keras.preprocessing.image import DirectoryIterator\n",
        "from tensorflow.keras.preprocessing.image import ImageDataGenerator\n",
        "from keras.models import Model\n",
        "import keras\n",
        "import numpy as np\n",
        "import matplotlib.pyplot as plt"
      ],
      "metadata": {
        "id": "MOkDjpZKIapa"
      },
      "execution_count": null,
      "outputs": []
    },
    {
      "cell_type": "code",
      "source": [
        "from google.colab import drive\n",
        "drive.mount('/content/drive')"
      ],
      "metadata": {
        "id": "qlOf8fiF7dMR",
        "colab": {
          "base_uri": "https://localhost:8080/"
        },
        "outputId": "32dbb29d-369e-47e5-e23a-1ecad41a4e09"
      },
      "execution_count": null,
      "outputs": [
        {
          "output_type": "stream",
          "name": "stdout",
          "text": [
            "Drive already mounted at /content/drive; to attempt to forcibly remount, call drive.mount(\"/content/drive\", force_remount=True).\n"
          ]
        }
      ]
    },
    {
      "cell_type": "code",
      "source": [
        "import os\n",
        "main_dir=\"/content/drive/MyDrive/OA medical \"\n",
        "train_dir=os.path.join ( main_dir , 'Training Data' )\n",
        "test_dir=os.path.join ( main_dir , 'Testing Data' )\n",
        "valid_dir=os.path.join ( main_dir , 'Validation Data'  )"
      ],
      "metadata": {
        "id": "6FdG9hqKIgT4"
      },
      "execution_count": null,
      "outputs": []
    },
    {
      "cell_type": "code",
      "source": [],
      "metadata": {
        "id": "K5PunPCnPOGr"
      },
      "execution_count": null,
      "outputs": []
    },
    {
      "cell_type": "code",
      "source": [],
      "metadata": {
        "id": "KqQRef4bR_SW"
      },
      "execution_count": null,
      "outputs": []
    },
    {
      "cell_type": "code",
      "source": [
        "\n"
      ],
      "metadata": {
        "id": "DVuh22W8Soaf"
      },
      "execution_count": null,
      "outputs": []
    },
    {
      "cell_type": "code",
      "source": [
        "datagen = ImageDataGenerator(rescale=1./255)"
      ],
      "metadata": {
        "id": "BfCY-FbFOgTy"
      },
      "execution_count": null,
      "outputs": []
    },
    {
      "cell_type": "code",
      "source": [
        "train_generator=datagen.flow_from_directory(directory=train_dir,\n",
        "                                                  target_size=(150,150),\n",
        "                                                  class_mode=\"sparse\",\n",
        "                                                  batch_size=32 )\n",
        "\n",
        "test_generator=datagen.flow_from_directory(directory=test_dir,\n",
        "                                                target_size=(150,150),\n",
        "                                                class_mode='sparse',\n",
        "                                                batch_size=32 )\n",
        "\n",
        "validation_generator=datagen.flow_from_directory(directory=valid_dir,\n",
        "                                                target_size=(150,150),\n",
        "                                                class_mode='sparse',\n",
        "                                                batch_size=32 )\n"
      ],
      "metadata": {
        "id": "to15_S3bOx-J",
        "colab": {
          "base_uri": "https://localhost:8080/"
        },
        "outputId": "8dfe7958-a9ac-48e3-ceb1-62244dcecaa8"
      },
      "execution_count": null,
      "outputs": [
        {
          "output_type": "stream",
          "name": "stdout",
          "text": [
            "Found 97 images belonging to 4 classes.\n",
            "Found 0 images belonging to 0 classes.\n",
            "Found 83 images belonging to 4 classes.\n"
          ]
        }
      ]
    },
    {
      "cell_type": "code",
      "source": [
        "train_generator.class_indices"
      ],
      "metadata": {
        "colab": {
          "base_uri": "https://localhost:8080/"
        },
        "id": "ndabIMlxWLcB",
        "outputId": "2c55c6c4-b4a4-4722-88da-026744803e5a"
      },
      "execution_count": null,
      "outputs": [
        {
          "output_type": "execute_result",
          "data": {
            "text/plain": [
              "{'Mild OA': 0, 'Moderate OA': 1, 'Normal Knee': 2, 'Severe OA': 3}"
            ]
          },
          "metadata": {},
          "execution_count": 9
        }
      ]
    },
    {
      "cell_type": "code",
      "source": [
        "train_generator.image_shape"
      ],
      "metadata": {
        "colab": {
          "base_uri": "https://localhost:8080/"
        },
        "id": "WZUWrfneW7wL",
        "outputId": "d524fdc9-ab15-456d-efbc-1899a360dee2"
      },
      "execution_count": null,
      "outputs": [
        {
          "output_type": "execute_result",
          "data": {
            "text/plain": [
              "(150, 150, 3)"
            ]
          },
          "metadata": {},
          "execution_count": 10
        }
      ]
    },
    {
      "cell_type": "code",
      "source": [
        "# define the model architecture\n",
        "model = keras.Sequential([\n",
        "    keras.layers.Conv2D(32, (3,3), activation='relu', input_shape=(150,150,3)),\n",
        "    keras.layers.MaxPooling2D(2,2),\n",
        "    keras.layers.Conv2D(64, (3,3), activation='relu'),\n",
        "    keras.layers.MaxPooling2D(2,2),\n",
        "    keras.layers.Conv2D(128, (3,3), activation='relu'),\n",
        "    keras.layers.MaxPooling2D(2,2),\n",
        "    keras.layers.Flatten(),\n",
        "    keras.layers.Dense(128, activation='relu'),\n",
        "    keras.layers.Dense(4, activation='softmax')\n",
        "])\n",
        "\n",
        "\n",
        "\n",
        ""
      ],
      "metadata": {
        "id": "uyBnAmbzeSyq"
      },
      "execution_count": null,
      "outputs": []
    },
    {
      "cell_type": "code",
      "source": [
        "#model.compile(loss='categorical_hinge', optimizer='adam', metrics=['accuracy'])\n",
        "model.compile(optimizer='adam',loss='categorical_crossentropy',metrics=['accuracy'])"
      ],
      "metadata": {
        "id": "teCYcQTvXDsq"
      },
      "execution_count": null,
      "outputs": []
    },
    {
      "cell_type": "code",
      "source": [
        "nb_train_samples=97\n",
        "nb_validation_samples=83\n",
        "batch_size=32\n",
        "epoch=50"
      ],
      "metadata": {
        "id": "G9Gqxd1jXNFE"
      },
      "execution_count": null,
      "outputs": []
    },
    {
      "cell_type": "code",
      "source": [
        "history = model.fit(train_generator,epochs=50,validation_data=validation_generator)"
      ],
      "metadata": {
        "id": "B3RYQOCzXd2i",
        "colab": {
          "base_uri": "https://localhost:8080/"
        },
        "outputId": "fa12687e-be76-4a7e-e42f-2a253b4fd90b"
      },
      "execution_count": null,
      "outputs": [
        {
          "output_type": "stream",
          "name": "stdout",
          "text": [
            "Epoch 1/50\n",
            "4/4 [==============================] - 9s 2s/step - loss: 1.7396 - accuracy: 0.3093 - val_loss: 1.4131 - val_accuracy: 0.3373\n",
            "Epoch 2/50\n",
            "4/4 [==============================] - 7s 2s/step - loss: 1.3937 - accuracy: 0.3196 - val_loss: 1.3320 - val_accuracy: 0.3494\n",
            "Epoch 3/50\n",
            "4/4 [==============================] - 9s 2s/step - loss: 1.3188 - accuracy: 0.3711 - val_loss: 1.2983 - val_accuracy: 0.3494\n",
            "Epoch 4/50\n",
            "4/4 [==============================] - 7s 2s/step - loss: 1.3967 - accuracy: 0.3505 - val_loss: 1.4614 - val_accuracy: 0.3373\n",
            "Epoch 5/50\n",
            "4/4 [==============================] - 7s 2s/step - loss: 1.3873 - accuracy: 0.3093 - val_loss: 1.3043 - val_accuracy: 0.3373\n",
            "Epoch 6/50\n",
            "4/4 [==============================] - 7s 2s/step - loss: 1.2997 - accuracy: 0.3402 - val_loss: 1.3104 - val_accuracy: 0.3494\n",
            "Epoch 7/50\n",
            "4/4 [==============================] - 7s 2s/step - loss: 1.2963 - accuracy: 0.3711 - val_loss: 1.2966 - val_accuracy: 0.3494\n",
            "Epoch 8/50\n",
            "4/4 [==============================] - 7s 2s/step - loss: 1.2898 - accuracy: 0.2784 - val_loss: 1.3102 - val_accuracy: 0.3494\n",
            "Epoch 9/50\n",
            "4/4 [==============================] - 7s 2s/step - loss: 1.3392 - accuracy: 0.3711 - val_loss: 1.3685 - val_accuracy: 0.3494\n",
            "Epoch 10/50\n",
            "4/4 [==============================] - 7s 2s/step - loss: 1.3117 - accuracy: 0.3711 - val_loss: 1.3073 - val_accuracy: 0.3373\n",
            "Epoch 11/50\n",
            "4/4 [==============================] - 7s 2s/step - loss: 1.2725 - accuracy: 0.3402 - val_loss: 1.3492 - val_accuracy: 0.2169\n",
            "Epoch 12/50\n",
            "4/4 [==============================] - 7s 2s/step - loss: 1.3000 - accuracy: 0.2990 - val_loss: 1.3271 - val_accuracy: 0.3373\n",
            "Epoch 13/50\n",
            "4/4 [==============================] - 7s 2s/step - loss: 1.2658 - accuracy: 0.5155 - val_loss: 1.3003 - val_accuracy: 0.3494\n",
            "Epoch 14/50\n",
            "4/4 [==============================] - 7s 2s/step - loss: 1.2478 - accuracy: 0.3711 - val_loss: 1.3141 - val_accuracy: 0.3494\n",
            "Epoch 15/50\n",
            "4/4 [==============================] - 7s 2s/step - loss: 1.2507 - accuracy: 0.3814 - val_loss: 1.3175 - val_accuracy: 0.2892\n",
            "Epoch 16/50\n",
            "4/4 [==============================] - 7s 2s/step - loss: 1.2494 - accuracy: 0.4433 - val_loss: 1.3470 - val_accuracy: 0.2530\n",
            "Epoch 17/50\n",
            "4/4 [==============================] - 7s 2s/step - loss: 1.2351 - accuracy: 0.4845 - val_loss: 1.3164 - val_accuracy: 0.2892\n",
            "Epoch 18/50\n",
            "4/4 [==============================] - 7s 2s/step - loss: 1.2193 - accuracy: 0.4742 - val_loss: 1.3350 - val_accuracy: 0.2892\n",
            "Epoch 19/50\n",
            "4/4 [==============================] - 7s 2s/step - loss: 1.2697 - accuracy: 0.4845 - val_loss: 1.4101 - val_accuracy: 0.2289\n",
            "Epoch 20/50\n",
            "4/4 [==============================] - 7s 2s/step - loss: 1.1755 - accuracy: 0.5464 - val_loss: 1.3296 - val_accuracy: 0.2289\n",
            "Epoch 21/50\n",
            "4/4 [==============================] - 7s 2s/step - loss: 1.2155 - accuracy: 0.4330 - val_loss: 1.4661 - val_accuracy: 0.3133\n",
            "Epoch 22/50\n",
            "4/4 [==============================] - 7s 2s/step - loss: 1.1588 - accuracy: 0.3814 - val_loss: 1.5078 - val_accuracy: 0.2530\n",
            "Epoch 23/50\n",
            "4/4 [==============================] - 7s 2s/step - loss: 1.0723 - accuracy: 0.4742 - val_loss: 1.7391 - val_accuracy: 0.1325\n",
            "Epoch 24/50\n",
            "4/4 [==============================] - 7s 2s/step - loss: 1.0723 - accuracy: 0.5670 - val_loss: 1.5046 - val_accuracy: 0.2169\n",
            "Epoch 25/50\n",
            "4/4 [==============================] - 7s 2s/step - loss: 1.0932 - accuracy: 0.6289 - val_loss: 1.4090 - val_accuracy: 0.1807\n",
            "Epoch 26/50\n",
            "4/4 [==============================] - 7s 2s/step - loss: 1.0576 - accuracy: 0.5773 - val_loss: 1.5132 - val_accuracy: 0.2289\n",
            "Epoch 27/50\n",
            "4/4 [==============================] - 7s 2s/step - loss: 1.0175 - accuracy: 0.4536 - val_loss: 1.7773 - val_accuracy: 0.2530\n",
            "Epoch 28/50\n",
            "4/4 [==============================] - 7s 2s/step - loss: 0.8957 - accuracy: 0.5773 - val_loss: 1.6748 - val_accuracy: 0.1928\n",
            "Epoch 29/50\n",
            "4/4 [==============================] - 7s 2s/step - loss: 0.7086 - accuracy: 0.7629 - val_loss: 2.1530 - val_accuracy: 0.2530\n",
            "Epoch 30/50\n",
            "4/4 [==============================] - 7s 2s/step - loss: 0.7861 - accuracy: 0.7320 - val_loss: 2.2238 - val_accuracy: 0.1807\n",
            "Epoch 31/50\n",
            "4/4 [==============================] - 7s 2s/step - loss: 0.7235 - accuracy: 0.8041 - val_loss: 1.6509 - val_accuracy: 0.2169\n",
            "Epoch 32/50\n",
            "4/4 [==============================] - 7s 2s/step - loss: 0.7090 - accuracy: 0.7938 - val_loss: 1.6777 - val_accuracy: 0.2169\n",
            "Epoch 33/50\n",
            "4/4 [==============================] - 7s 2s/step - loss: 0.6297 - accuracy: 0.7629 - val_loss: 2.5028 - val_accuracy: 0.2048\n",
            "Epoch 34/50\n",
            "4/4 [==============================] - 7s 2s/step - loss: 0.4401 - accuracy: 0.8557 - val_loss: 3.0930 - val_accuracy: 0.1566\n",
            "Epoch 35/50\n",
            "4/4 [==============================] - 7s 2s/step - loss: 0.3410 - accuracy: 0.8660 - val_loss: 4.0374 - val_accuracy: 0.0964\n",
            "Epoch 36/50\n",
            "4/4 [==============================] - 7s 2s/step - loss: 0.2904 - accuracy: 0.8557 - val_loss: 3.3125 - val_accuracy: 0.1928\n",
            "Epoch 37/50\n",
            "4/4 [==============================] - 7s 2s/step - loss: 0.2360 - accuracy: 0.9381 - val_loss: 3.6696 - val_accuracy: 0.1807\n",
            "Epoch 38/50\n",
            "4/4 [==============================] - 7s 2s/step - loss: 0.1632 - accuracy: 0.9691 - val_loss: 4.7082 - val_accuracy: 0.1084\n",
            "Epoch 39/50\n",
            "4/4 [==============================] - 7s 2s/step - loss: 0.1157 - accuracy: 0.9691 - val_loss: 3.7503 - val_accuracy: 0.2048\n",
            "Epoch 40/50\n",
            "4/4 [==============================] - 7s 2s/step - loss: 0.1470 - accuracy: 0.9691 - val_loss: 4.1232 - val_accuracy: 0.1807\n",
            "Epoch 41/50\n",
            "4/4 [==============================] - 7s 2s/step - loss: 0.0869 - accuracy: 0.9588 - val_loss: 5.5920 - val_accuracy: 0.1205\n",
            "Epoch 42/50\n",
            "4/4 [==============================] - 7s 2s/step - loss: 0.0597 - accuracy: 0.9794 - val_loss: 5.5049 - val_accuracy: 0.1205\n",
            "Epoch 43/50\n",
            "4/4 [==============================] - 8s 3s/step - loss: 0.0447 - accuracy: 0.9897 - val_loss: 5.4827 - val_accuracy: 0.1446\n",
            "Epoch 44/50\n",
            "4/4 [==============================] - 7s 2s/step - loss: 0.0230 - accuracy: 1.0000 - val_loss: 5.6274 - val_accuracy: 0.1687\n",
            "Epoch 45/50\n",
            "4/4 [==============================] - 7s 2s/step - loss: 0.0363 - accuracy: 1.0000 - val_loss: 5.6711 - val_accuracy: 0.1325\n",
            "Epoch 46/50\n",
            "4/4 [==============================] - 7s 2s/step - loss: 0.0087 - accuracy: 1.0000 - val_loss: 5.8816 - val_accuracy: 0.1325\n",
            "Epoch 47/50\n",
            "4/4 [==============================] - 7s 2s/step - loss: 0.0086 - accuracy: 1.0000 - val_loss: 6.6575 - val_accuracy: 0.1325\n",
            "Epoch 48/50\n",
            "4/4 [==============================] - 7s 2s/step - loss: 0.1464 - accuracy: 0.9381 - val_loss: 6.5986 - val_accuracy: 0.1446\n",
            "Epoch 49/50\n",
            "4/4 [==============================] - 7s 2s/step - loss: 0.0231 - accuracy: 1.0000 - val_loss: 5.2834 - val_accuracy: 0.2169\n",
            "Epoch 50/50\n",
            "4/4 [==============================] - 7s 2s/step - loss: 0.0939 - accuracy: 0.9588 - val_loss: 4.7092 - val_accuracy: 0.2048\n"
          ]
        }
      ]
    },
    {
      "cell_type": "code",
      "source": [
        "test_loss,test_acc=model.evaluate(validation_generator)\n",
        "print('test acc:{}test loss: {}'.format(test_acc,test_loss))"
      ],
      "metadata": {
        "id": "ZsCMMSpKX2-o",
        "colab": {
          "base_uri": "https://localhost:8080/"
        },
        "outputId": "cd1865da-8f95-4359-f474-387208778bcf"
      },
      "execution_count": null,
      "outputs": [
        {
          "output_type": "stream",
          "name": "stdout",
          "text": [
            "3/3 [==============================] - 2s 517ms/step - loss: 4.7092 - accuracy: 0.2048\n",
            "test acc:0.20481927692890167test loss: 4.709201335906982\n"
          ]
        }
      ]
    },
    {
      "cell_type": "code",
      "source": [
        "import numpy as np\n",
        "from google.colab import files\n",
        "from tensorflow import keras\n",
        "from keras.preprocessing import image\n",
        "\n",
        "import cv2\n",
        "\n",
        "uploaded=files.upload()\n",
        "for f in uploaded.keys():\n",
        "  img_path=\"/content/\"+f\n",
        "  img=keras.preprocessing.image.load_img(img_path, target_size=(150,150))\n",
        "  images =keras.preprocessing.image.img_to_array ( img )\n",
        "  images = np.expand_dims ( images , axis = 0 )\n",
        "  prediction=model.predict(images)\n",
        "  if prediction.all()==1:\n",
        "    print(f,\" it is moderate OA\")\n",
        "\n",
        "  elif prediction.any()==2:\n",
        "    print(f,\" it is Normal OA\")\n",
        "  elif prediction.all()==0:\n",
        "    print(f,\" it is mild OA\")\n",
        "  elif prediction.any()==3:\n",
        "    print(f,\" it is severe OA\")"
      ],
      "metadata": {
        "id": "Cih-b4rtsdpM",
        "colab": {
          "base_uri": "https://localhost:8080/",
          "height": 108
        },
        "outputId": "4b806a08-9735-4c0e-b951-5b2c113c4f30"
      },
      "execution_count": null,
      "outputs": [
        {
          "output_type": "display_data",
          "data": {
            "text/plain": [
              "<IPython.core.display.HTML object>"
            ],
            "text/html": [
              "\n",
              "     <input type=\"file\" id=\"files-87a70aaf-28db-428c-beca-cd0f79c6c0ec\" name=\"files[]\" multiple disabled\n",
              "        style=\"border:none\" />\n",
              "     <output id=\"result-87a70aaf-28db-428c-beca-cd0f79c6c0ec\">\n",
              "      Upload widget is only available when the cell has been executed in the\n",
              "      current browser session. Please rerun this cell to enable.\n",
              "      </output>\n",
              "      <script>// Copyright 2017 Google LLC\n",
              "//\n",
              "// Licensed under the Apache License, Version 2.0 (the \"License\");\n",
              "// you may not use this file except in compliance with the License.\n",
              "// You may obtain a copy of the License at\n",
              "//\n",
              "//      http://www.apache.org/licenses/LICENSE-2.0\n",
              "//\n",
              "// Unless required by applicable law or agreed to in writing, software\n",
              "// distributed under the License is distributed on an \"AS IS\" BASIS,\n",
              "// WITHOUT WARRANTIES OR CONDITIONS OF ANY KIND, either express or implied.\n",
              "// See the License for the specific language governing permissions and\n",
              "// limitations under the License.\n",
              "\n",
              "/**\n",
              " * @fileoverview Helpers for google.colab Python module.\n",
              " */\n",
              "(function(scope) {\n",
              "function span(text, styleAttributes = {}) {\n",
              "  const element = document.createElement('span');\n",
              "  element.textContent = text;\n",
              "  for (const key of Object.keys(styleAttributes)) {\n",
              "    element.style[key] = styleAttributes[key];\n",
              "  }\n",
              "  return element;\n",
              "}\n",
              "\n",
              "// Max number of bytes which will be uploaded at a time.\n",
              "const MAX_PAYLOAD_SIZE = 100 * 1024;\n",
              "\n",
              "function _uploadFiles(inputId, outputId) {\n",
              "  const steps = uploadFilesStep(inputId, outputId);\n",
              "  const outputElement = document.getElementById(outputId);\n",
              "  // Cache steps on the outputElement to make it available for the next call\n",
              "  // to uploadFilesContinue from Python.\n",
              "  outputElement.steps = steps;\n",
              "\n",
              "  return _uploadFilesContinue(outputId);\n",
              "}\n",
              "\n",
              "// This is roughly an async generator (not supported in the browser yet),\n",
              "// where there are multiple asynchronous steps and the Python side is going\n",
              "// to poll for completion of each step.\n",
              "// This uses a Promise to block the python side on completion of each step,\n",
              "// then passes the result of the previous step as the input to the next step.\n",
              "function _uploadFilesContinue(outputId) {\n",
              "  const outputElement = document.getElementById(outputId);\n",
              "  const steps = outputElement.steps;\n",
              "\n",
              "  const next = steps.next(outputElement.lastPromiseValue);\n",
              "  return Promise.resolve(next.value.promise).then((value) => {\n",
              "    // Cache the last promise value to make it available to the next\n",
              "    // step of the generator.\n",
              "    outputElement.lastPromiseValue = value;\n",
              "    return next.value.response;\n",
              "  });\n",
              "}\n",
              "\n",
              "/**\n",
              " * Generator function which is called between each async step of the upload\n",
              " * process.\n",
              " * @param {string} inputId Element ID of the input file picker element.\n",
              " * @param {string} outputId Element ID of the output display.\n",
              " * @return {!Iterable<!Object>} Iterable of next steps.\n",
              " */\n",
              "function* uploadFilesStep(inputId, outputId) {\n",
              "  const inputElement = document.getElementById(inputId);\n",
              "  inputElement.disabled = false;\n",
              "\n",
              "  const outputElement = document.getElementById(outputId);\n",
              "  outputElement.innerHTML = '';\n",
              "\n",
              "  const pickedPromise = new Promise((resolve) => {\n",
              "    inputElement.addEventListener('change', (e) => {\n",
              "      resolve(e.target.files);\n",
              "    });\n",
              "  });\n",
              "\n",
              "  const cancel = document.createElement('button');\n",
              "  inputElement.parentElement.appendChild(cancel);\n",
              "  cancel.textContent = 'Cancel upload';\n",
              "  const cancelPromise = new Promise((resolve) => {\n",
              "    cancel.onclick = () => {\n",
              "      resolve(null);\n",
              "    };\n",
              "  });\n",
              "\n",
              "  // Wait for the user to pick the files.\n",
              "  const files = yield {\n",
              "    promise: Promise.race([pickedPromise, cancelPromise]),\n",
              "    response: {\n",
              "      action: 'starting',\n",
              "    }\n",
              "  };\n",
              "\n",
              "  cancel.remove();\n",
              "\n",
              "  // Disable the input element since further picks are not allowed.\n",
              "  inputElement.disabled = true;\n",
              "\n",
              "  if (!files) {\n",
              "    return {\n",
              "      response: {\n",
              "        action: 'complete',\n",
              "      }\n",
              "    };\n",
              "  }\n",
              "\n",
              "  for (const file of files) {\n",
              "    const li = document.createElement('li');\n",
              "    li.append(span(file.name, {fontWeight: 'bold'}));\n",
              "    li.append(span(\n",
              "        `(${file.type || 'n/a'}) - ${file.size} bytes, ` +\n",
              "        `last modified: ${\n",
              "            file.lastModifiedDate ? file.lastModifiedDate.toLocaleDateString() :\n",
              "                                    'n/a'} - `));\n",
              "    const percent = span('0% done');\n",
              "    li.appendChild(percent);\n",
              "\n",
              "    outputElement.appendChild(li);\n",
              "\n",
              "    const fileDataPromise = new Promise((resolve) => {\n",
              "      const reader = new FileReader();\n",
              "      reader.onload = (e) => {\n",
              "        resolve(e.target.result);\n",
              "      };\n",
              "      reader.readAsArrayBuffer(file);\n",
              "    });\n",
              "    // Wait for the data to be ready.\n",
              "    let fileData = yield {\n",
              "      promise: fileDataPromise,\n",
              "      response: {\n",
              "        action: 'continue',\n",
              "      }\n",
              "    };\n",
              "\n",
              "    // Use a chunked sending to avoid message size limits. See b/62115660.\n",
              "    let position = 0;\n",
              "    do {\n",
              "      const length = Math.min(fileData.byteLength - position, MAX_PAYLOAD_SIZE);\n",
              "      const chunk = new Uint8Array(fileData, position, length);\n",
              "      position += length;\n",
              "\n",
              "      const base64 = btoa(String.fromCharCode.apply(null, chunk));\n",
              "      yield {\n",
              "        response: {\n",
              "          action: 'append',\n",
              "          file: file.name,\n",
              "          data: base64,\n",
              "        },\n",
              "      };\n",
              "\n",
              "      let percentDone = fileData.byteLength === 0 ?\n",
              "          100 :\n",
              "          Math.round((position / fileData.byteLength) * 100);\n",
              "      percent.textContent = `${percentDone}% done`;\n",
              "\n",
              "    } while (position < fileData.byteLength);\n",
              "  }\n",
              "\n",
              "  // All done.\n",
              "  yield {\n",
              "    response: {\n",
              "      action: 'complete',\n",
              "    }\n",
              "  };\n",
              "}\n",
              "\n",
              "scope.google = scope.google || {};\n",
              "scope.google.colab = scope.google.colab || {};\n",
              "scope.google.colab._files = {\n",
              "  _uploadFiles,\n",
              "  _uploadFilesContinue,\n",
              "};\n",
              "})(self);\n",
              "</script> "
            ]
          },
          "metadata": {}
        },
        {
          "output_type": "stream",
          "name": "stdout",
          "text": [
            "Saving Patient5_Axial.jpeg to Patient5_Axial (3).jpeg\n",
            "1/1 [==============================] - 0s 32ms/step\n",
            "Patient5_Axial.jpeg  it is mild OA\n"
          ]
        }
      ]
    },
    {
      "cell_type": "code",
      "source": [
        "model.save('medical_OA_model.h5')"
      ],
      "metadata": {
        "id": "VRDajjn5dn0j"
      },
      "execution_count": null,
      "outputs": []
    }
  ]
}